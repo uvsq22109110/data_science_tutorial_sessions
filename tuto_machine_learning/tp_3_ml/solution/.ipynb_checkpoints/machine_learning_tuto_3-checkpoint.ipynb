{
 "cells": [
  {
   "cell_type": "markdown",
   "metadata": {},
   "source": [
    "<center>\n",
    "    <h1>\n",
    "        <center><i> Data Science </i></center>\n",
    "        <center><i>tutorials session - <i style=\"color:red;\"> ML - 3 </i></i></center>\n",
    "    </h1>\n",
    "     <div style=\"float: right\">  \n",
    "         <p style=\"float: left;\"><b>Intervenant : Feki Younès &nbsp;  <br>\n",
    "                                    Year : 2020-2021  </b>\n",
    "         </p>\n",
    "      </div>\n",
    "<br><br>\n",
    "<hr>\n",
    "</center> \n",
    "\n",
    "\n",
    "### Object \n",
    "&emsp;&emsp; In this session, you are asked to solve some computer vision problems. <br>\n",
    "\n",
    "**Tutorial goals** \n",
    "\n",
    "1. Master some notions of Computer vision \n",
    "2. Implement some embedding methods\n",
    "4. Implement a classification model \n",
    "\n",
    "For each session task, you have access to code's template (functions) that you must complete. In the blank cells you should  write the answers.\n"
   ]
  },
  {
   "cell_type": "code",
   "execution_count": null,
   "metadata": {},
   "outputs": [],
   "source": []
  }
 ],
 "metadata": {
  "kernelspec": {
   "display_name": "Python 3",
   "language": "python",
   "name": "python3"
  },
  "language_info": {
   "codemirror_mode": {
    "name": "ipython",
    "version": 3
   },
   "file_extension": ".py",
   "mimetype": "text/x-python",
   "name": "python",
   "nbconvert_exporter": "python",
   "pygments_lexer": "ipython3",
   "version": "3.8.5"
  }
 },
 "nbformat": 4,
 "nbformat_minor": 4
}
