{
 "cells": [
  {
   "cell_type": "markdown",
   "metadata": {},
   "source": [
    "<center>\n",
    "    <h1>\n",
    "        <center><i> Data Science </i></center>\n",
    "        <center><i>tutorials session - <i style=\"color:red;\"> ML - 3 </i></i></center>\n",
    "    </h1>\n",
    "     <div style=\"float: right\">  \n",
    "         <p style=\"float: left;\"><b>Intervenant : Feki Younès &nbsp;  <br>\n",
    "                                    Year : 2020-2021  </b>\n",
    "         </p>\n",
    "      </div>\n",
    "<br><br>\n",
    "<hr>\n",
    "</center> \n",
    "\n",
    "\n",
    "### Object \n",
    "&emsp;&emsp; In this session, you are asked to solve some computer vision problems. <br>\n",
    "\n",
    "**Tutorial goals** \n",
    "\n",
    "1. Master some notions of Computer vision \n",
    "2. Implement some computer vision techniques \n",
    "4. Implement a classification model \n",
    "\n",
    "For each session task, you have access to code's template (functions) that you must complete. In the blank cells you should  write the answers.\n"
   ]
  },
  {
   "cell_type": "code",
   "execution_count": 1,
   "metadata": {},
   "outputs": [],
   "source": [
    "from skimage.filters import * \n",
    "import skimage.io\n",
    "import pandas as pd\n",
    "import matplotlib.pyplot as plt\n",
    "import numpy as np\n",
    "from skimage.io import imread, imshow\n",
    "from skimage.transform import resize\n",
    "from skimage.feature import hog\n",
    "from glob import glob\n",
    "from skimage import feature\n",
    "from sklearn.model_selection import train_test_split\n",
    "from sklearn.linear_model import LogisticRegression\n",
    "from skimage.transform import rescale, resize, rotate\n",
    "import cv2\n",
    "from sklearn.ensemble import RandomForestClassifier\n",
    "\n",
    "%matplotlib inline"
   ]
  },
  {
   "cell_type": "markdown",
   "metadata": {},
   "source": [
    "# Filters"
   ]
  },
  {
   "cell_type": "markdown",
   "metadata": {},
   "source": [
    "1. Name some method of edge detection\n",
    "2. How Sobel filter works ? Use Sobel Filter on this image ? \n",
    "3. What is Canny Edge detector ? \n",
    "4. Code a function which transforms an RGB image into a gray image. (Different formula used, check internet...)\n",
    "5. Apply Sobel filter and Canny Edge on the image <a href=\"./data/examples_data/dog.jpg\">link</a> \n",
    "6. What is the difference between Canny Edge and Sobel Filters ? \n",
    "7. What is HoG ? \n",
    "8. Apply HoG detector on these images :\n",
    "    - image 1 : <a href=\"./data/examples_data/dog.jpg\">link</a> \n",
    "    - image 2 : <a href=\"./data/examples_data/car.jpg\">link</a>\n",
    "   Use patch size (8, 8) adn normalize it using a block of cell (2,2) and 9 orientation for gradients angles\n",
    "9. What is SIFT ?"
   ]
  },
  {
   "cell_type": "code",
   "execution_count": 2,
   "metadata": {},
   "outputs": [],
   "source": [
    "# %load solution/responses_py/filters.py"
   ]
  },
  {
   "cell_type": "markdown",
   "metadata": {},
   "source": [
    "# Classification"
   ]
  },
  {
   "cell_type": "markdown",
   "metadata": {},
   "source": [
    "1. Collect paths for each category of dogs and cats located in <a href=\"./data/classification_data/raw_data/\"> this directory </a>\n",
    "2. Preprocess each image using the previous defined HoG detector and store the result for each image in the correspoding subfolder **hog**\n",
    "3. Create a dataframe of features labels and suffle it.\n",
    "4. Split data into Train Test subsets, use test size 33%\n",
    "5. Use LogisticRegression(random_state=42,max_iter=500) to classify your data. Score your subsets.\n",
    "6. Use these links to :\n",
    "    - a) Predict the class of these images\n",
    "        - image 1 : <a href=\"./data/examples_data/dog.jpg\" >link </a>\n",
    "        - image 2 : <a href=\"./data/examples_data/dog_zoomed.jpg\" >link </a> \n",
    "    - b) Open the image 2 and rotate it using an angle of 15° and 45°. Predit the class of each rotated image\n",
    "    - c) **What do you thing of this HoG descriptor**\n",
    "    - d) What solutions could you suggest to resolve this problem ? \n",
    "    \n",
    "7. Using the function transform each image of the dataset to gray image and then aply SIFT detector on it. Store the result under the correspoding subfolder **sift**\n",
    "8. Create a dataframe of features labels and suffle it.\n",
    "9. Split data into Train Test subsets, use test size 33%\n",
    "10. Use RandomForestClassifier(n_estimators=150, max_depth=7, random_state=42) to classify your data. Score your subsets.\n",
    "11. Use these links to :\n",
    "    - a) Predict the class of these images\n",
    "        - image 1 : <a href=\"./data/examples_data/dog.jpg\" >link </a>\n",
    "    - b) Open the image 1 and rotate it using an angle of 15° and 45°. Predit the class of each rotated image\n",
    "    - c) **What do you thing of this Sift descriptor**"
   ]
  },
  {
   "cell_type": "code",
   "execution_count": 3,
   "metadata": {},
   "outputs": [],
   "source": [
    "# %load solution/responses_py/HoG.py"
   ]
  },
  {
   "cell_type": "code",
   "execution_count": 4,
   "metadata": {},
   "outputs": [],
   "source": [
    "# %load solution/responses_py/Sift.py"
   ]
  },
  {
   "cell_type": "markdown",
   "metadata": {},
   "source": [
    "<div style=\"text-align: center;\">\n",
    "    <h1> Good Luck </h1>\n",
    "</div>"
   ]
  }
 ],
 "metadata": {
  "kernelspec": {
   "display_name": "Python 3",
   "language": "python",
   "name": "python3"
  },
  "language_info": {
   "codemirror_mode": {
    "name": "ipython",
    "version": 3
   },
   "file_extension": ".py",
   "mimetype": "text/x-python",
   "name": "python",
   "nbconvert_exporter": "python",
   "pygments_lexer": "ipython3",
   "version": "3.8.5"
  }
 },
 "nbformat": 4,
 "nbformat_minor": 4
}
