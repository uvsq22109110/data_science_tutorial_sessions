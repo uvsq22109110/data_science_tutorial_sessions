{
 "cells": [
  {
   "cell_type": "markdown",
   "metadata": {},
   "source": [
    "<center>\n",
    "    <h1>\n",
    "        <center><i> Data Science - Deep Learning</i></center>\n",
    "        <center><i>tutorials session - <i style=\"color:red;\"> ML - CNN </i></i></center>\n",
    "    </h1>\n",
    "     <div style=\"float: right\">  \n",
    "         <p style=\"float: left;\"><b>Intervenant : Feki Younès &nbsp;  <br>\n",
    "                                    Year : 2020-2021  </b>\n",
    "         </p>\n",
    "      </div>\n",
    "<br><br>\n",
    "<hr>\n",
    "</center> \n",
    "\n",
    "\n",
    "### Object \n",
    "&emsp;&emsp; In this session, you are asked to solve some common problems of deep learning. <br>\n",
    "\n",
    "For each session task, you have access to code's template (functions) that you must complete. In the blank cells you should  write the answers.\n"
   ]
  },
  {
   "cell_type": "code",
   "execution_count": 3,
   "metadata": {},
   "outputs": [
    {
     "name": "stderr",
     "output_type": "stream",
     "text": [
      "Using TensorFlow backend.\n"
     ]
    }
   ],
   "source": [
    "# %load helpers/imports.py\n",
    "import os\n",
    "from glob import * \n",
    "import random\n",
    "import json\n",
    "import warnings\n",
    "\n",
    "from IPython.display import Markdown, display\n",
    "\n",
    "import matplotlib.pyplot as plt\n",
    "import matplotlib.patches as patches\n",
    "from matplotlib.offsetbox import OffsetImage, AnnotationBbox\n",
    "import skimage\n",
    "import PIL\n",
    "from skimage import io\n",
    "from skimage.transform import resize\n",
    "from skimage.util import img_as_ubyte\n",
    "from PIL import Image \n",
    "import cv2\n",
    "\n",
    "import numpy as np\n",
    "import pandas as pd\n",
    "\n",
    "from helpers.nms import non_max_suppression\n",
    "from helpers.iou import compute_iou\n",
    "from helpers.plot_embedding_images import plot_embedding_images\n",
    "from helpers.plot_history import plot_history\n",
    "\n",
    "import tensorflow as tf\n",
    "import keras\n",
    "\n",
    "from keras.models import Model\n",
    "from keras import backend as K\n",
    "\n",
    "from tensorflow.keras.applications import DenseNet121\n",
    "from tf_explain.core.activations import ExtractActivations\n",
    "from tensorflow.keras.models import load_model\n",
    "from tensorflow.keras.layers import * \n",
    "from tensorflow.keras.preprocessing.image import *\n",
    "from tensorflow.keras.utils import to_categorical\n",
    "from tensorflow.keras.applications.densenet import preprocess_input\n",
    "from sklearn.decomposition import PCA\n",
    "from sklearn.preprocessing import LabelBinarizer\n",
    "from sklearn.model_selection import train_test_split\n",
    "from sklearn.utils import class_weight\n",
    "\n",
    "\n",
    "#Reproductibility\n",
    "seed_value= 1\n",
    "random.seed(seed_value)\n",
    "os.environ['TF_DETERMINISTIC_OPS'] = str(seed_value)\n",
    "os.environ['PYTHONHASHSEED']=str(seed_value)\n",
    "np.random.seed(seed_value)\n",
    "tf.random.set_seed(seed_value)\n",
    "\n",
    "#Filter Warnings\n",
    "warnings.simplefilter(\"ignore\")"
   ]
  },
  {
   "cell_type": "markdown",
   "metadata": {},
   "source": [
    "# CNNs Theory\n",
    "\n",
    "**In this section, we will list the basics of CNN, the possible applciation of CNNs. <br/> You have to use object oriented programming**."
   ]
  },
  {
   "cell_type": "code",
   "execution_count": 4,
   "metadata": {},
   "outputs": [
    {
     "data": {
      "text/markdown": [
       "### Task\n",
       "\n",
       "1. What is 2D Convolution ?\n",
       "2. Define these concepts : Padding, Stride ? \n",
       "3. What is the benefit of the Padding ?\n",
       "4. What is the rule to compute the output dimension ? \n",
       "5. What is pooling ? Name different types of pooling.\n",
       "6. What is a Dropout ? How did it works.\n",
       "7. What is a bounding box ?\n",
       "8. What are the tasks that you can perform using a CNN, give an example for each task\n",
       "9. Code a class Conv2D using only numpy lilbrary. The class should also take these optional parameters : Stride, Padding (Valid,Constant, Same). Test you class on this image. <a href=\"https://miro.medium.com/max/638/1*APsEcslehRkCD9IXq6P2Mw.jpeg\"></a> with this kernel. Plot & interpret the results <br/>\n",
       "``` Python\n",
       "kernel = np.array([[0, -0.5, 0], [-0.5, 3, -0.5], [0, -0.5, 0]])\n",
       "```\n"
      ],
      "text/plain": [
       "<IPython.core.display.Markdown object>"
      ]
     },
     "metadata": {},
     "output_type": "display_data"
    }
   ],
   "source": [
    "display(Markdown(\"tasks_md/task_theory.md\"))"
   ]
  },
  {
   "cell_type": "code",
   "execution_count": 3,
   "metadata": {},
   "outputs": [],
   "source": [
    "#display(Markdown(\"responses_md/response_theory.md\"))"
   ]
  },
  {
   "cell_type": "code",
   "execution_count": 4,
   "metadata": {},
   "outputs": [],
   "source": [
    "#%load responses_py/response_theory.py"
   ]
  },
  {
   "cell_type": "markdown",
   "metadata": {},
   "source": [
    "# Clustering using CNN (Response task_clustering 1-1 Is Missing to do )"
   ]
  },
  {
   "cell_type": "markdown",
   "metadata": {},
   "source": [
    "#### DensetNet-121 <br>\n",
    "<img style=\"height:300px;widht:300px;float:left;\" src=\"https://pytorch.org/assets/images/densenet1.png\" />\n",
    "<img style=\"height:300px;widht:300px;float:right;\" src=\"https://www.researchgate.net/publication/331364877/figure/fig4/AS:741856270901253@1553883726942/Left-DenseNet121-architecture-Right-Dense-block-conv-block-and-transition-layer.png\" />"
   ]
  },
  {
   "cell_type": "code",
   "execution_count": 6,
   "metadata": {},
   "outputs": [],
   "source": [
    "#display(Markdown(\"tasks_md/task_clustering.md\"))"
   ]
  },
  {
   "cell_type": "code",
   "execution_count": 6,
   "metadata": {},
   "outputs": [],
   "source": [
    "#display(Markdown(\"responses_md/response_clustering.md\"))"
   ]
  },
  {
   "cell_type": "code",
   "execution_count": 7,
   "metadata": {},
   "outputs": [],
   "source": [
    "#%load responses_py/response_clustering.py"
   ]
  },
  {
   "cell_type": "markdown",
   "metadata": {},
   "source": [
    "# Transfert Learning CNN"
   ]
  },
  {
   "cell_type": "markdown",
   "metadata": {},
   "source": [
    "## Classification "
   ]
  },
  {
   "cell_type": "code",
   "execution_count": 8,
   "metadata": {},
   "outputs": [],
   "source": [
    "#display(Markdown(\"tasks_md/task_classification.md\"))"
   ]
  },
  {
   "cell_type": "code",
   "execution_count": 9,
   "metadata": {},
   "outputs": [],
   "source": [
    "#%load responses_py/response_classification.py"
   ]
  },
  {
   "cell_type": "markdown",
   "metadata": {},
   "source": [
    "## Object Detection - RCNN"
   ]
  },
  {
   "cell_type": "markdown",
   "metadata": {},
   "source": [
    "<img src=\"https://www.mdpi.com/applsci/applsci-10-03280/article_deploy/html/images/applsci-10-03280-g004.png\" />"
   ]
  },
  {
   "cell_type": "code",
   "execution_count": 10,
   "metadata": {},
   "outputs": [],
   "source": [
    "#display(Markdown(\"tasks_md/task_object_detection.md\"))"
   ]
  },
  {
   "cell_type": "code",
   "execution_count": 11,
   "metadata": {},
   "outputs": [],
   "source": [
    "#display(Markdown(\"responses_md/response_object_detection.md\"))"
   ]
  },
  {
   "cell_type": "code",
   "execution_count": 12,
   "metadata": {},
   "outputs": [],
   "source": [
    "#%load responses_py/response_object_detection.py"
   ]
  },
  {
   "cell_type": "markdown",
   "metadata": {},
   "source": [
    "<div style=\"text-align: center;\">\n",
    "    <h1> Good Luck </h1>\n",
    "</div>"
   ]
  }
 ],
 "metadata": {
  "kernelspec": {
   "display_name": "Python 3",
   "language": "python",
   "name": "python3"
  },
  "language_info": {
   "codemirror_mode": {
    "name": "ipython",
    "version": 3
   },
   "file_extension": ".py",
   "mimetype": "text/x-python",
   "name": "python",
   "nbconvert_exporter": "python",
   "pygments_lexer": "ipython3",
   "version": "3.8.5"
  }
 },
 "nbformat": 4,
 "nbformat_minor": 4
}
